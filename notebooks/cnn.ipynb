{
 "cells": [
  {
   "cell_type": "code",
   "execution_count": null,
   "metadata": {},
   "outputs": [],
   "source": [
    "import random\n",
    "import numpy as np\n",
    "import tensorflow as tf\n",
    "from tensorflow import keras\n",
    "from tensorflow.keras import layers\n",
    "import matplotlib.pyplot as plt"
   ]
  },
  {
   "cell_type": "code",
   "execution_count": null,
   "metadata": {},
   "outputs": [],
   "source": [
    "from pathlib import Path\n",
    "from PIL import Image\n",
    "import numpy as np\n",
    "\n",
    " #https://becominghuman.ai/understanding-and-coding-inception-module-in-keras-eb56e9056b4b\n",
    "# get the path/directory\n",
    "folder_dir = '/content/drive/MyDrive/DB1_B'\n",
    " \n",
    "# iterate over files in\n",
    "# that directory\n",
    "images = Path(folder_dir).glob('*.tif')\n",
    "\n",
    "img_data_list=[]\n",
    "Y=dict()\n",
    "for image in images:\n",
    "    img=Image.open(image)\n",
    "    data=np.asarray(img)\n",
    "    #data=np.dstack([img,img,img])\n",
    "    img_data_list.append(data)\n",
    "    try:\n",
    "      Y[(int(image.name.split('_')[0]))].append(data)\n",
    "    except:\n",
    "      Y[(int(image.name.split('_')[0]))]=[data]\n",
    "img_data=(img_data_list)"
   ]
  },
  {
   "cell_type": "code",
   "execution_count": null,
   "metadata": {},
   "outputs": [],
   "source": [
    "from random import shuffle\n",
    "X_train = []\n",
    "X_test = []\n",
    "Y_train = []\n",
    "Y_test =  []\n",
    "\n",
    "for person,imp in Y.items():\n",
    "  shuffle(imp)\n",
    "  train,test=imp[:7],imp[7:]\n",
    "\n",
    "  X_train.extend(train)\n",
    "  X_test.extend(test)\n",
    "  y_id=person % 100 - 1\n",
    "  y_1_hot= [0]*10\n",
    "  y_1_hot[y_id]=1\n",
    "  Y_train.extend([y_1_hot]*7)\n",
    "  # Person % 100 -1 = 1\n",
    "  # rest 0\n",
    "\n",
    "  Y_test.extend([y_1_hot] * 1)"
   ]
  },
  {
   "cell_type": "code",
   "execution_count": null,
   "metadata": {},
   "outputs": [],
   "source": [
    "xtrain=np.asarray(X_train)\n",
    "xtest=np.asarray(X_test)\n",
    "ytrain=np.asarray(Y_train)\n",
    "ytest=np.asarray(Y_test)"
   ]
  },
  {
   "cell_type": "code",
   "execution_count": null,
   "metadata": {},
   "outputs": [],
   "source": [
    "print(f\"{xtrain.shape=}\")\n",
    "print(f\"{ytrain.shape=}\")\n",
    "print(f\"{xtest.shape=}\")\n",
    "print(f\"{ytest.shape=}\")\n",
    "# print(f\"{ytest.shape=}\")\n"
   ]
  },
  {
   "cell_type": "code",
   "execution_count": null,
   "metadata": {},
   "outputs": [],
   "source": [
    "X_train = xtrain.astype('float32')\n",
    "X_test = xtest.astype('float32')\n",
    "X_train = np.expand_dims(X_train, -1)\n",
    "X_test = np.expand_dims(X_test, -1)\n",
    "X_train = X_train / 255.0\n",
    "X_test = X_test / 255.0\n",
    "X_train"
   ]
  },
  {
   "cell_type": "code",
   "execution_count": null,
   "metadata": {},
   "outputs": [],
   "source": [
    "import numpy as np\n",
    "from tensorflow import keras\n",
    "from tensorflow.keras import layers\n",
    "input_shape = (374, 388, 1)\n",
    "model = keras.Sequential(\n",
    "    [\n",
    "        keras.Input(input_shape),\n",
    "        layers.Conv2D(32, kernel_size=(3, 3), activation=\"relu\"),\n",
    "        layers.MaxPooling2D(pool_size=(2, 2)),\n",
    "        layers.Conv2D(64, kernel_size=(3, 3), activation=\"relu\"),\n",
    "        layers.MaxPooling2D(pool_size=(2, 2)),\n",
    "        layers.Flatten(),\n",
    "        layers.Dropout(0.5),\n",
    "        layers.Dense(10, activation=\"softmax\"),\n",
    "    ]\n",
    ")\n",
    "\n",
    "model.summary()"
   ]
  },
  {
   "cell_type": "code",
   "execution_count": null,
   "metadata": {},
   "outputs": [],
   "source": [
    "batch_size = 128\n",
    "epochs = 15\n",
    "\n",
    "model.compile(loss=\"categorical_crossentropy\", optimizer=\"adam\", metrics=[\"accuracy\"])\n",
    "\n",
    "model.fit(X_train, ytrain, batch_size=batch_size, epochs=epochs, validation_split=0.1) "
   ]
  },
  {
   "cell_type": "code",
   "execution_count": null,
   "metadata": {},
   "outputs": [],
   "source": [
    "score = model.evaluate(X_test, ytest, verbose=0)\n",
    "print(\"Test loss:\", score[0])\n",
    "print(\"Test accuracy:\", score[1])"
   ]
  }
 ],
 "metadata": {
  "language_info": {
   "name": "python"
  },
  "orig_nbformat": 4
 },
 "nbformat": 4,
 "nbformat_minor": 2
}

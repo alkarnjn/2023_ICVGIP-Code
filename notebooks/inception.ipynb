{
 "cells": [
  {
   "cell_type": "code",
   "execution_count": null,
   "metadata": {},
   "outputs": [],
   "source": [
    "from tensorflow.keras.models import Model\n",
    "from tensorflow.keras.layers import *\n",
    "\n",
    "\n",
    "def inception_module(x, base_channels=32):\n",
    "  a = Conv2D(base_channels*2, 1, 1, activation='relu')(x)\n",
    "\n",
    "  b_1 = Conv2D(base_channels*4, 1, 1, activation='relu')(x)\n",
    "  b_2 = Conv2D(base_channels*4, 3, 1, padding='same', activation='relu')(b_1)\n",
    "\n",
    "  c_1 = Conv2D(base_channels, 1, 1, activation='relu')(x)\n",
    "  c_2 = Conv2D(base_channels, 5, 1, padding='same', activation='relu')(c_1)\n",
    "\n",
    "  d_1 = MaxPooling2D(3, 1, padding='same')(x)\n",
    "  d_2 = Conv2D(base_channels, 1, 1, activation='relu')(d_1)\n",
    "\n",
    "  return Concatenate(axis=-1)([a, b_2, c_2, d_2])\n",
    "\n",
    "inp = Input((224, 224, 3))\n",
    "\n",
    "maps = inception_module(inp)\n",
    "\n",
    "gap = GlobalAveragePooling2D()(maps)\n",
    "\n",
    "output = Dense(1, activation='sigmoid')(gap)\n",
    "\n",
    "model = Model(inputs=inp, outputs=output)\n",
    "\n",
    "model.summary()"
   ]
  },
  {
   "cell_type": "code",
   "execution_count": null,
   "metadata": {},
   "outputs": [],
   "source": [
    "from tensorflow.keras.optimizers import Adam\n",
    "from tensorflow.keras.losses import BinaryCrossentropy\n",
    "\n",
    "# Learning rate is also a hyperparameter\n",
    "model.compile(loss=BinaryCrossentropy(), \n",
    "              optimizer=Adam(learning_rate=0.001), metrics=['accuracy'])"
   ]
  },
  {
   "cell_type": "code",
   "execution_count": null,
   "metadata": {},
   "outputs": [],
   "source": [
    "from tensorflow.keras.callbacks import EarlyStopping\n",
    "\n",
    "es = EarlyStopping(patience=5, monitor='loss')"
   ]
  },
  {
   "cell_type": "code",
   "execution_count": null,
   "metadata": {},
   "outputs": [],
   "source": [
    "model.fit(\n",
    "    train_dataset,\n",
    "    epochs=10,\n",
    "    validation_data=test_dataset,\n",
    "    callbacks=[es]\n",
    ")"
   ]
  }
 ],
 "metadata": {
  "language_info": {
   "name": "python"
  },
  "orig_nbformat": 4
 },
 "nbformat": 4,
 "nbformat_minor": 2
}

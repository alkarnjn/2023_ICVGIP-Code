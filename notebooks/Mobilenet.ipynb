{
 "cells": [
  {
   "cell_type": "code",
   "execution_count": null,
   "metadata": {},
   "outputs": [],
   "source": [
    "import tensorflow as tf\n",
    "#https://journalofcloudcomputing.springeropen.com/counter/pdf/10.1186/s13677-020-00203-9.pdf\n",
    "#https://towardsdatascience.com/building-mobilenet-from-scratch-using-tensorflow-ad009c5dd42c\n",
    "#import all necessary layers\n",
    "from tensorflow.keras.layers import Input, DepthwiseConv2D\n",
    "from tensorflow.keras.layers import Conv2D, BatchNormalization,GlobalAveragePooling2D\n",
    "from tensorflow.keras.layers import ReLU, AvgPool2D, Flatten, Dense\n",
    "from tensorflow.keras import Model\n",
    "# MobileNet block\n",
    "def mobilnet_block (x, filters, strides):\n",
    "    \n",
    "    x = DepthwiseConv2D(kernel_size = 3, strides = strides,dilation_rate=3, padding = 'same')(x)\n",
    "    x = DepthwiseConv2D(kernel_size = 3, strides = strides, padding = 'same')(x)\n",
    "    x = BatchNormalization()(x)\n",
    "    x = ReLU()(x)\n",
    "    \n",
    "    x = Conv2D(filters = filters, kernel_size = 1, strides = 1)(x)\n",
    "    x = BatchNormalization()(x)\n",
    "    x = ReLU()(x)\n",
    "    \n",
    "    return x\n",
    "#stem of the model\n",
    "input = Input(shape = (374,388,1))\n",
    "x = Conv2D(filters = 32, kernel_size = 3, strides = 1, padding = 'same')(input)\n",
    "x = BatchNormalization()(x)\n",
    "x = ReLU()(x)\n",
    "# main part of the model\n",
    "x = mobilnet_block(x, filters = 64, strides = 1)\n",
    "x = mobilnet_block(x, filters = 128, strides = 1)\n",
    "x = mobilnet_block(x, filters = 128, strides = 1)\n",
    "x = mobilnet_block(x, filters = 256, strides = 1)\n",
    "x = mobilnet_block(x, filters = 256, strides = 1)\n",
    "x = mobilnet_block(x, filters = 512, strides = 1)\n",
    "for _ in range (5):\n",
    "     x = mobilnet_block(x, filters = 512, strides = 1)\n",
    "x = mobilnet_block(x, filters = 1024, strides = 1)\n",
    "x = mobilnet_block(x, filters = 1024, strides = 1)\n",
    "x = AvgPool2D (pool_size = 7, strides = 1, data_format='channels_first')(x)\n",
    "output = Dense (units = 10, activation = 'softmax')(x)\n",
    "model = Model(inputs=input, outputs=output)\n",
    "model.summary()\n",
    "#plot the model\n",
    "tf.keras.utils.plot_model(model, to_file='model.png', show_shapes=True, show_dtype=False,show_layer_names=True, rankdir='TB', expand_nested=False, dpi=96)"
   ]
  },
  {
   "cell_type": "code",
   "execution_count": null,
   "metadata": {},
   "outputs": [],
   "source": [
    "batch_size = 128\n",
    "epochs = 15\n",
    "\n",
    "model.compile(loss=\"categorical_crossentropy\", optimizer=\"adam\", metrics=[\"accuracy\"])\n",
    "\n",
    "model.fit(X_train, ytrain, batch_size=batch_size, epochs=epochs, validation_split=0.1) "
   ]
  },
  {
   "cell_type": "code",
   "execution_count": null,
   "metadata": {},
   "outputs": [],
   "source": [
    "score = model.evaluate(X_test, ytest, verbose=0)\n",
    "print(\"Test loss:\", score[0])\n",
    "print(\"Test accuracy:\", score[1])"
   ]
  }
 ],
 "metadata": {
  "language_info": {
   "name": "python"
  },
  "orig_nbformat": 4
 },
 "nbformat": 4,
 "nbformat_minor": 2
}

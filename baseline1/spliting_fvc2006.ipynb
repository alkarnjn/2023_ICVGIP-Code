{
 "cells": [
  {
   "cell_type": "code",
   "execution_count": 26,
   "metadata": {},
   "outputs": [],
   "source": [
    "import cv2\n",
    "import os\n",
    "import shutil\n",
    "# Get the path to the images\n",
    "images_path = r\"/home/rs/21CS91R01/research/2023_ICVGIP-Code/datasets/FVC2006DB2\"\n",
    "new_image_path = r\"/home/rs/21CS91R01/research/2023_ICVGIP-Code/datasets/FVC_imagenet\"\n",
    "\n",
    "cnt=0\n",
    "# Iterate over the images\n",
    "for image_name in os.listdir(images_path):\n",
    "    if image_name.endswith('.bmp'):\n",
    "        # Extract the label from the image name without considering variations\n",
    "        image_name_ex = image_name.split('.')[0]\n",
    "        image_no = image_name_ex.split('_')[0]\n",
    "        index =image_name_ex.split('_')[1]\n",
    "        # reimages_path = '/home/rs/21CS91R01/research/2023_ICVGIP-Code/datasets/FVC2006DB2/'\n",
    "        # Path\n",
    "        path = os.path.join(new_image_path,image_no)\n",
    "        if not os.path.exists(path):\n",
    "            os.mkdir(path)"
   ]
  },
  {
   "cell_type": "code",
   "execution_count": 37,
   "metadata": {},
   "outputs": [],
   "source": [
    "import glob\n",
    "for bmpfile in glob.iglob(os.path.join(images_path, \"*.bmp\")):\n",
    "    folder_no = os.path.basename(bmpfile).split('.')[0].split('_')[0]\n",
    "    dst_dir =os.path.join(new_image_path,folder_no) \n",
    "    shutil.copy(bmpfile, dst_dir)"
   ]
  },
  {
   "cell_type": "code",
   "execution_count": 38,
   "metadata": {},
   "outputs": [
    {
     "name": "stdout",
     "output_type": "stream",
     "text": [
      "/bin/bash: /home/rs/21CS91R01/anaconda3/envs/few_shot/lib/python3.10/site-packages/cv2/../../../../lib/libtinfo.so.6: no version information available (required by /bin/bash)\n",
      "Collecting split-folders\n",
      "  Downloading split_folders-0.5.1-py3-none-any.whl (8.4 kB)\n",
      "Installing collected packages: split-folders\n",
      "Successfully installed split-folders-0.5.1\n",
      "Note: you may need to restart the kernel to use updated packages.\n"
     ]
    }
   ],
   "source": [
    "pip install split-folders"
   ]
  },
  {
   "cell_type": "code",
   "execution_count": 46,
   "metadata": {},
   "outputs": [],
   "source": [
    "import splitfolders\n",
    "output = \"/home/rs/21CS91R01/research/2023_ICVGIP-Code/datasets/output\"\n",
    "\n",
    "result = splitfolders.ratio(new_image_path,seed=1337, output=output, ratio=(0.6, 0.2, 0.2))\n"
   ]
  }
 ],
 "metadata": {
  "kernelspec": {
   "display_name": "few_shot",
   "language": "python",
   "name": "python3"
  },
  "language_info": {
   "codemirror_mode": {
    "name": "ipython",
    "version": 3
   },
   "file_extension": ".py",
   "mimetype": "text/x-python",
   "name": "python",
   "nbconvert_exporter": "python",
   "pygments_lexer": "ipython3",
   "version": "3.10.9"
  },
  "orig_nbformat": 4
 },
 "nbformat": 4,
 "nbformat_minor": 2
}
